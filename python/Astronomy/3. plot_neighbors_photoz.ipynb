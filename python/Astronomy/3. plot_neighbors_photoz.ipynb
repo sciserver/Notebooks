{
 "cells": [
  {
   "cell_type": "markdown",
   "metadata": {},
   "source": [
    "# Notebook 3: Photo-Z regression calculator\n",
    "\n",
    "This notebook calculates a regression fit for photometric redshifts of galaxies. It uses the following steps:\n",
    "\n",
    "- Queries a training set of galaxies for which redshifts are available (redshift is a rough measure of the distance to a galaxy).\n",
    "- Derives a k-nearest-neighbour regressor that determines a redshift estimate from 5 \"broad-band\" magnitudes\n",
    "- Tests the derived regressor against a test dataset by plotting actual redshifts of galaxies in the test set against redshifts predicted by the regressor.\n",
    "\n",
    "Author: Jake VanderPlas (vanderplas@astro.washington.edu)\n",
    "\n",
    "License: BSD\n",
    "\n",
    "The figure is an example from astroML: see http://astroml.github.com\n",
    "\n",
    "Modified to work with SDSS data by Dmitry Medvedev (dmedv@jhu.edu)"
   ]
  },
  {
   "cell_type": "code",
   "execution_count": 1,
   "metadata": {
    "ExecuteTime": {
     "end_time": "2016-04-26T14:34:12.542251",
     "start_time": "2016-04-26T14:34:11.507866"
    },
    "collapsed": true
   },
   "outputs": [],
   "source": [
    "import SciServer.CasJobs as CasJobs   # work with CasJobs\n",
    "from io import StringIO   # work with strings\n",
    "import numpy as np   # standard Python math package\n",
    "import pandas   # \"pandas\" package for data processing\n",
    "from matplotlib import pyplot as plt   # plotting\n",
    "from sklearn.neighbors import KNeighborsRegressor   # find regressor\n",
    "from astroML.plotting import scatter_contour   # make scatterplot"
   ]
  },
  {
   "cell_type": "code",
   "execution_count": 2,
   "metadata": {
    "ExecuteTime": {
     "end_time": "2016-04-25T16:51:36.185717",
     "start_time": "2016-04-25T16:51:36.179928"
    },
    "collapsed": false
   },
   "outputs": [],
   "source": [
    "# some special settings\n",
    "# ensure columns get written completely in notebook\n",
    "pandas.set_option('display.max_colwidth', -1)\n",
    "# do *not* show python warnings \n",
    "import warnings\n",
    "warnings.filterwarnings('ignore')"
   ]
  },
  {
   "cell_type": "code",
   "execution_count": 3,
   "metadata": {
    "ExecuteTime": {
     "end_time": "2016-04-25T16:51:41.785547",
     "start_time": "2016-04-25T16:51:41.777655"
    },
    "collapsed": true
   },
   "outputs": [],
   "source": [
    "NOBJECTS = 20000\n",
    "#GAL_COLORS_DTYPE = [('u', float),\n",
    "#                    ('g', float),\n",
    "#                    ('r', float),\n",
    "#                    ('i', float),\n",
    "#                    ('z', float),\n",
    "#                    ('redshift', float),\n",
    "#                    ('redshift_err', float)]"
   ]
  },
  {
   "cell_type": "markdown",
   "metadata": {},
   "source": [
    "Now we do this"
   ]
  },
  {
   "cell_type": "code",
   "execution_count": 4,
   "metadata": {
    "ExecuteTime": {
     "end_time": "2016-04-25T16:52:16.601662",
     "start_time": "2016-04-25T16:51:49.050535"
    },
    "collapsed": false
   },
   "outputs": [
    {
     "name": "stdout",
     "output_type": "stream",
     "text": [
      "Done\n"
     ]
    }
   ],
   "source": [
    "# get data from CasJobs: first, set up the query we want to run\n",
    "query_text = ('\\n'.join(\n",
    "    (\"SELECT TOP %i\" % NOBJECTS,\n",
    "    \"   p.u, p.g, p.r, p.i, p.z, s.z as redshift, s.zerr as redshift_err\",\n",
    "    \"FROM PhotoObj AS p\",\n",
    "    \"   JOIN SpecObj AS s ON s.bestobjid = p.objid\",\n",
    "    \"WHERE \",\n",
    "    \"   p.u BETWEEN 0 AND 19.6\",\n",
    "    \"   AND p.g BETWEEN 0 AND 20\",\n",
    "    \"   AND (s.class = 'GALAXY' OR s.class = 'QSO')\")))\n",
    "\n",
    "# run the query and store the results as a pandas DataFrame\n",
    "data_df = CasJobs.executeQuery(query_text,\"DR13\")\n",
    "\n",
    "print('Done')"
   ]
  },
  {
   "cell_type": "code",
   "execution_count": 5,
   "metadata": {
    "ExecuteTime": {
     "end_time": "2016-04-25T16:52:37.617780",
     "start_time": "2016-04-25T16:52:37.611888"
    },
    "collapsed": false
   },
   "outputs": [
    {
     "data": {
      "text/html": [
       "<div>\n",
       "<style>\n",
       "    .dataframe thead tr:only-child th {\n",
       "        text-align: right;\n",
       "    }\n",
       "\n",
       "    .dataframe thead th {\n",
       "        text-align: left;\n",
       "    }\n",
       "\n",
       "    .dataframe tbody tr th {\n",
       "        vertical-align: top;\n",
       "    }\n",
       "</style>\n",
       "<table border=\"1\" class=\"dataframe\">\n",
       "  <thead>\n",
       "    <tr style=\"text-align: right;\">\n",
       "      <th></th>\n",
       "      <th>u</th>\n",
       "      <th>g</th>\n",
       "      <th>r</th>\n",
       "      <th>i</th>\n",
       "      <th>z</th>\n",
       "      <th>redshift</th>\n",
       "      <th>redshift_err</th>\n",
       "    </tr>\n",
       "  </thead>\n",
       "  <tbody>\n",
       "    <tr>\n",
       "      <th>0</th>\n",
       "      <td>19.05989</td>\n",
       "      <td>17.49459</td>\n",
       "      <td>16.59285</td>\n",
       "      <td>16.09412</td>\n",
       "      <td>15.70741</td>\n",
       "      <td>0.044277</td>\n",
       "      <td>0.000011</td>\n",
       "    </tr>\n",
       "    <tr>\n",
       "      <th>1</th>\n",
       "      <td>19.45567</td>\n",
       "      <td>18.33084</td>\n",
       "      <td>17.67185</td>\n",
       "      <td>17.30189</td>\n",
       "      <td>17.13650</td>\n",
       "      <td>0.041644</td>\n",
       "      <td>0.000018</td>\n",
       "    </tr>\n",
       "    <tr>\n",
       "      <th>2</th>\n",
       "      <td>18.27065</td>\n",
       "      <td>18.08745</td>\n",
       "      <td>18.08966</td>\n",
       "      <td>18.22180</td>\n",
       "      <td>18.37045</td>\n",
       "      <td>0.396530</td>\n",
       "      <td>0.056599</td>\n",
       "    </tr>\n",
       "    <tr>\n",
       "      <th>3</th>\n",
       "      <td>18.94490</td>\n",
       "      <td>17.45382</td>\n",
       "      <td>16.71061</td>\n",
       "      <td>16.26543</td>\n",
       "      <td>15.94860</td>\n",
       "      <td>0.073319</td>\n",
       "      <td>0.000010</td>\n",
       "    </tr>\n",
       "    <tr>\n",
       "      <th>4</th>\n",
       "      <td>18.84868</td>\n",
       "      <td>16.86433</td>\n",
       "      <td>15.90334</td>\n",
       "      <td>15.42890</td>\n",
       "      <td>15.08823</td>\n",
       "      <td>0.057814</td>\n",
       "      <td>0.000016</td>\n",
       "    </tr>\n",
       "    <tr>\n",
       "      <th>5</th>\n",
       "      <td>19.03113</td>\n",
       "      <td>17.93515</td>\n",
       "      <td>17.49739</td>\n",
       "      <td>17.15799</td>\n",
       "      <td>16.99095</td>\n",
       "      <td>0.081877</td>\n",
       "      <td>0.000008</td>\n",
       "    </tr>\n",
       "    <tr>\n",
       "      <th>6</th>\n",
       "      <td>19.34175</td>\n",
       "      <td>18.33376</td>\n",
       "      <td>17.95975</td>\n",
       "      <td>17.67543</td>\n",
       "      <td>17.54168</td>\n",
       "      <td>0.082040</td>\n",
       "      <td>0.000006</td>\n",
       "    </tr>\n",
       "    <tr>\n",
       "      <th>7</th>\n",
       "      <td>19.20547</td>\n",
       "      <td>18.21573</td>\n",
       "      <td>17.73127</td>\n",
       "      <td>17.42313</td>\n",
       "      <td>17.32267</td>\n",
       "      <td>0.082187</td>\n",
       "      <td>0.000006</td>\n",
       "    </tr>\n",
       "    <tr>\n",
       "      <th>8</th>\n",
       "      <td>16.62952</td>\n",
       "      <td>14.88339</td>\n",
       "      <td>14.55241</td>\n",
       "      <td>14.57238</td>\n",
       "      <td>15.26632</td>\n",
       "      <td>0.006618</td>\n",
       "      <td>0.000023</td>\n",
       "    </tr>\n",
       "    <tr>\n",
       "      <th>9</th>\n",
       "      <td>19.16411</td>\n",
       "      <td>17.27371</td>\n",
       "      <td>16.31466</td>\n",
       "      <td>15.78471</td>\n",
       "      <td>15.44008</td>\n",
       "      <td>0.082839</td>\n",
       "      <td>0.000012</td>\n",
       "    </tr>\n",
       "  </tbody>\n",
       "</table>\n",
       "</div>"
      ],
      "text/plain": [
       "          u         g         r         i         z  redshift  redshift_err\n",
       "0  19.05989  17.49459  16.59285  16.09412  15.70741  0.044277  0.000011    \n",
       "1  19.45567  18.33084  17.67185  17.30189  17.13650  0.041644  0.000018    \n",
       "2  18.27065  18.08745  18.08966  18.22180  18.37045  0.396530  0.056599    \n",
       "3  18.94490  17.45382  16.71061  16.26543  15.94860  0.073319  0.000010    \n",
       "4  18.84868  16.86433  15.90334  15.42890  15.08823  0.057814  0.000016    \n",
       "5  19.03113  17.93515  17.49739  17.15799  16.99095  0.081877  0.000008    \n",
       "6  19.34175  18.33376  17.95975  17.67543  17.54168  0.082040  0.000006    \n",
       "7  19.20547  18.21573  17.73127  17.42313  17.32267  0.082187  0.000006    \n",
       "8  16.62952  14.88339  14.55241  14.57238  15.26632  0.006618  0.000023    \n",
       "9  19.16411  17.27371  16.31466  15.78471  15.44008  0.082839  0.000012    "
      ]
     },
     "execution_count": 5,
     "metadata": {},
     "output_type": "execute_result"
    }
   ],
   "source": [
    "# show some of the data\n",
    "data_df.head(10)"
   ]
  },
  {
   "cell_type": "code",
   "execution_count": 6,
   "metadata": {
    "ExecuteTime": {
     "end_time": "2016-04-25T16:53:16.272996",
     "start_time": "2016-04-25T16:53:16.074680"
    },
    "collapsed": false
   },
   "outputs": [
    {
     "name": "stdout",
     "output_type": "stream",
     "text": [
      "RMS error = 0.37\n"
     ]
    }
   ],
   "source": [
    "n_neighbors = 1\n",
    "\n",
    "N = len(data_df.index)\n",
    "\n",
    "# Divide the data into equal-sized training and test datasets (by masking using a random numpy array)\n",
    "msk = np.random.rand(N) < 0.5  # The 0.5 sets the size of the training set\n",
    "train_df = data_df[msk]\n",
    "test_df = data_df[~msk]\n",
    "\n",
    "#print('Length of training data: {0}'.format(len(train_df.index)))\n",
    "#print('Length of test data: {0}'.format(len(test_df.index)))\n",
    "#print('\\n')\n",
    "\n",
    "# put colors in a matrix - first for the training set, then for the test set\n",
    "Ntrain = len(train_df.index)\n",
    "Xtrain = np.zeros((Ntrain,4))\n",
    "Xtrain[:,0] = train_df['u'] - train_df['g']\n",
    "Xtrain[:, 1] = train_df['g'] - train_df['r']\n",
    "Xtrain[:, 2] = train_df['r'] - train_df['i']\n",
    "Xtrain[:, 3] = train_df['i'] - train_df['z']\n",
    "ztrain = train_df['redshift']\n",
    "\n",
    "#print('First 3 rows of Xtrain:')\n",
    "#print(Xtrain[0:2,:])\n",
    "#print('\\n')\n",
    "\n",
    "# put colors in a matrix - first for the training set, then for the test set\n",
    "Ntest = len(test_df.index)\n",
    "Xtest = np.zeros((Ntest,4))\n",
    "Xtest[:,0] = test_df['u'] - test_df['g']\n",
    "Xtest[:, 1] = test_df['g'] - test_df['r']\n",
    "Xtest[:, 2] = test_df['r'] - test_df['i']\n",
    "Xtest[:, 3] = test_df['i'] - test_df['z']\n",
    "ztest = test_df['redshift']\n",
    "\n",
    "#print('First 3 rows of Xtest:')\n",
    "#print(Xtrain[0:2,:])\n",
    "\n",
    "knn = KNeighborsRegressor(n_neighbors, weights='uniform')\n",
    "zpred = knn.fit(Xtrain, ztrain).predict(Xtest)\n",
    "\n",
    "rms = np.sqrt(np.mean((ztest - zpred) ** 2))\n",
    "print(\"RMS error = %.2g\" % rms)"
   ]
  },
  {
   "cell_type": "code",
   "execution_count": 7,
   "metadata": {
    "ExecuteTime": {
     "end_time": "2016-04-25T16:53:20.011878",
     "start_time": "2016-04-25T16:53:19.120662"
    },
    "collapsed": false
   },
   "outputs": [
    {
     "data": {
      "image/png": "[encoded data removed]",
      "text/plain": [
       "<matplotlib.figure.Figure at 0x7f92c1900198>"
      ]
     },
     "metadata": {},
     "output_type": "display_data"
    }
   ],
   "source": [
    "axis_lim = np.array([-0.1, 2.5])\n",
    "\n",
    "plt.figure(figsize=(12, 8))\n",
    "ax = plt.axes()\n",
    "plt.scatter(ztest, zpred, c='k', lw=0, s=4)\n",
    "plt.plot(axis_lim, axis_lim, '--k')\n",
    "plt.plot(axis_lim, axis_lim + rms, ':k')\n",
    "plt.plot(axis_lim, axis_lim - rms, ':k')\n",
    "plt.xlim(axis_lim)\n",
    "plt.ylim(axis_lim)\n",
    "\n",
    "plt.text(0.99, 0.02, \"RMS error = %.2g\" % rms,\n",
    "         ha='right', va='bottom', transform=ax.transAxes,\n",
    "         bbox=dict(ec='w', fc='w'), fontsize=16)\n",
    "\n",
    "plt.title('Photo-z: Nearest Neigbor Regression')\n",
    "plt.xlabel(r'$\\mathrm{z_{spec}}$', fontsize=20)\n",
    "plt.ylabel(r'$\\mathrm{z_{phot}}$', fontsize=20)\n",
    "plt.show()"
   ]
  },
  {
   "cell_type": "code",
   "execution_count": null,
   "metadata": {
    "collapsed": true
   },
   "outputs": [],
   "source": []
  }
 ],
 "metadata": {
  "kernelspec": {
   "display_name": "Python 3",
   "language": "python",
   "name": "python3"
  },
  "language_info": {
   "codemirror_mode": {
    "name": "ipython",
    "version": 3
   },
   "file_extension": ".py",
   "mimetype": "text/x-python",
   "name": "python",
   "nbconvert_exporter": "python",
   "pygments_lexer": "ipython3",
   "version": "3.5.3"
  }
 },
 "nbformat": 4,
 "nbformat_minor": 0
}
