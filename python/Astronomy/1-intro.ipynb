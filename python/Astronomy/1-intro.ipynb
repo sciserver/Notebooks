{
 "cells": [
  {
   "cell_type": "markdown",
   "metadata": {},
   "source": [
    "# SciServer Science Demo Notebook 1\n",
    "\n",
    "### Query SDSS Data Release 13, save thumbnails to SciDrive and data to CasJobs"
   ]
  },
  {
   "cell_type": "markdown",
   "metadata": {},
   "source": [
    "This notebook shows you how to use SciServer Compute to communicate with the other components of SciServer. \n",
    "\n",
    "You will learn how to:\n",
    "\n",
    "1. Import Python libraries to work with SciServer\n",
    "2. Use CasJobs to query databases - specifically, find galaxies in SDSS DR13\n",
    "3. Write Python code to plot your data.\n",
    "4. Store the results of your analysis on a local scratch disk (as an HD5 file) for later reuse.\n",
    "5. Retrieve thumbnail images for your selected objects from the SDSS ImgCutout service.\n",
    "6. Save the thumbnails to your SciDrive, where you can easily share them with your colleagues.\n",
    "7. Save data for these galaxies to your CasJobs MyDB\n",
    "8. Optional: connect this notebook with your SciServer login portal account (using a Keystone token)"
   ]
  },
  {
   "cell_type": "markdown",
   "metadata": {},
   "source": [
    "# 1. Import SciServer libraries \n",
    "The SciServer team has written a library called <tt>SciServer</tt> to allow Jupyter notebooks like this one to communicate with all SciServer components. The <tt>SciServer</tt> library includes a module for working with each SciServer component. As with all Python modules, they must be actively imported before being used.\n",
    "\n",
    "The Code Cell below imports those, together with some standard Python libraries helpful for scientific analysis. It then sets some options that you might find helpful."
   ]
  },
  {
   "cell_type": "code",
   "execution_count": null,
   "metadata": {
    "collapsed": false
   },
   "outputs": [],
   "source": [
    "# Step 1a: Import Python libraries to work with SciServer\n",
    "\n",
    "import SciServer.CasJobs            # query with CasJobs\n",
    "import SciServer.SciDrive           # read/write to/from SciDrive\n",
    "print('Imported SciServer library')\n",
    "\n",
    "# Step 1b: Import some other libraries you will need\n",
    "import pandas                       # useful python library for data handling\n",
    "import matplotlib.pyplot as plt     # standard Python library for graphing\n",
    "import urllib                       # parse URLs (needed to generate links to thumbnail images)\n",
    "import skimage.io                   # image processing library, needed to display thumbnail images\n",
    "#import numpy as np                            # standard Python lib for math ops - we don't use it in this notebook\n",
    "#import json                                     # Work with Javascript object notation (.json) files\n",
    "print('Imported other Python libraries')\n",
    "\n",
    "# Step 1c: Apply some special settings to the imported libraries\n",
    "# ensure columns get written completely in notebook\n",
    "pandas.set_option('display.max_colwidth', -1)\n",
    "# do *not* show python warnings \n",
    "import warnings\n",
    "warnings.filterwarnings('ignore')\n",
    "print('Options set')"
   ]
  },
  {
   "cell_type": "markdown",
   "metadata": {},
   "source": [
    "# 2. Query an astronomy database (SDSS DR13)\n",
    "\n",
    "The next Code Cell searches the SDSS Data Release 13 database via the CasJobs REST API. The query completes quickly, so it uses CasJobs quick mode.\n",
    "\n",
    "CasJobs also has an asynchronous mode, which will submit job to a queue and will store the results in a table in your MyDB. If your results are very large, it will store the results in MyScratchDB instead.\n",
    "\n",
    "Run the code block below to query DR13 via CasJobs and print a table of query results. Try changing some of the query parameters to see how the results change.\n",
    "\n",
    "Documentation on the SciServer Python libraries can be found at our documentation site at:<br />\n",
    "www.sciserver.org/docs/\n",
    "\n",
    "The <tt>SciServer.CasJobs</tt> library returns results as a Pandas DataFrame. Pandas documentation is available at:<br />\n",
    "http://pandas.pydata.org/pandas-docs/stable/\n",
    "\n",
    "<font color='red'>TODO:</font> make example with batch query mode."
   ]
  },
  {
   "cell_type": "code",
   "execution_count": null,
   "metadata": {
    "collapsed": false
   },
   "outputs": [],
   "source": [
    "# Step 2a: Find objects in the Sloan Digital Sky Survey's Data Release 13.\n",
    "# Queries the Sloan Digital Sky Serveys' Data Release 13.\n",
    "# For the database schema and documentation see www.sdss.org/dr13 and http://skyserver.sdss.org/dr13\n",
    "#\n",
    "# This query finds \"a 4x4 grid of nice-looking galaxies\": \n",
    "#   galaxies in the SDSS database that have a spectrum \n",
    "#   and have a size (petror90_r) larger than 10 arcsec.\n",
    "# \n",
    "# First, store the query in an object called \"query\" (surround with triple-quotes to avoid parsing errors)\n",
    "query=\"\"\"\n",
    "SELECT TOP 16 p.objId,p.ra,p.dec,p.petror90_r\n",
    "  FROM galaxy AS p\n",
    "   JOIN SpecObj AS s ON s.bestobjid = p.objid\n",
    "WHERE p.u BETWEEN 0 AND 19.6\n",
    "  AND p.g BETWEEN 0 AND 17  AND p.petror90_r > 10\n",
    "\"\"\"\n",
    "# Step 2b: Send the query to CasJobs.\n",
    "# This example uses DR13 as context - the code makes a connection to the DR13 database, then runs the query in quick mode.\n",
    "#   When the query succeeds, an \"OK\" message prints.\n",
    "myGalaxies = SciServer.CasJobs.executeQuery(query, \"dr13\")\n",
    "print('OK')\n",
    "\n",
    "# Step 2c: show results (as a Pandas DataFrame)\n",
    "myGalaxies"
   ]
  },
  {
   "cell_type": "markdown",
   "metadata": {},
   "source": [
    "# 3. Make simple plots\n",
    "\n",
    "Now that we have run the query and stored the results, we can start analyzing the results.\n",
    "\n",
    "Start by making a simple plot of positions, using the results you found from your CasJobs query in section 2.\n",
    "\n",
    "The Code Cell below creates two plots. The first is a very simple plot just showing the data with no explanations, useful for quick data exploration. The second includes axis labels and a title, for sharing with your teams. More information about setting plot options is available in the PyPlot documentation at https://matplotlib.org/api/pyplot_api.html"
   ]
  },
  {
   "cell_type": "code",
   "execution_count": null,
   "metadata": {
    "collapsed": true
   },
   "outputs": [],
   "source": [
    "plt.scatter(myGalaxies['ra'], myGalaxies['dec'])\n",
    "plt.show() \n",
    "\n",
    "plt.scatter(myGalaxies['ra'], myGalaxies['dec'])\n",
    "plt.xlabel('RA',fontsize=14)\n",
    "plt.ylabel('Dec',fontsize=14)\n",
    "plt.title('Positions of 16 galaxies in SDSS DR13')\n",
    "plt.show() "
   ]
  },
  {
   "cell_type": "markdown",
   "metadata": {},
   "source": [
    "# 4. Store results in your container for later use\n",
    "\n",
    "The next Code Cell saves the data from the \"myGalaxies\" DataFrame as an HD5 file and as a CSV file.\n",
    "\n",
    "To see these files, go back to your iPython notebook dashboard (the page from which you opened this notebook). Make sure you are in the <b>persistent</b> folder. You should see your files there. Click on the file names to preview."
   ]
  },
  {
   "cell_type": "code",
   "execution_count": null,
   "metadata": {
    "collapsed": true
   },
   "outputs": [],
   "source": [
    "# store result as HDF5 file \n",
    "h5store = pandas.HDFStore('GalaxyThumbSample.h5')\n",
    "h5store['galaxies']=myGalaxies\n",
    "h5store.close()\n",
    "print('Saved as .h5 file')\n",
    "\n",
    "# store result as CSV file\n",
    "myGalaxies.to_csv('GalaxyThumbSample.csv')\n",
    "print('Saved as .csv file')"
   ]
  },
  {
   "cell_type": "markdown",
   "metadata": {},
   "source": [
    "# 5. Retrieve thumbnail cutouts of galaxies and show them on screen\n",
    "SkyServer has a service that will produce a color image cutout of certain dimensions around a specified position, displayed as a JPG thumbnail. (The service creates the thumbnail using a pre-defined image pyramid.)\n",
    "\n",
    "To print a thumbnail image for a single galaxy, you can construct the URL of the service using your query results (using the <tt>urllib</tt> library), then use the <tt>skimage</tt> package to call the URL. To get all thumbnails for all the galaxies in your query result, you can iterate using a loop.\n",
    "\n",
    "The Code Cell below gives an example of how to retrieve JPG thumbnails of the 16 galaxies you selected from SDSS DR13.\n",
    "\n",
    "Note that to display the SDSS objID as a title above each thumbnail, we set the index of the DataFrame to be objID.\n",
    "\n",
    "The SDSS ImgCutout service is documented at http://skyserver.sdss.org/dr13/en/tools/chart/chartinfo.aspx"
   ]
  },
  {
   "cell_type": "code",
   "execution_count": null,
   "metadata": {
    "collapsed": false
   },
   "outputs": [],
   "source": [
    "myGalaxies = myGalaxies.set_index('objId')    # set the index of the DataFrame for easy reference later\n",
    "# set thumbnail parameters\n",
    "width=200           # image width\n",
    "height=200          # height\n",
    "pixelsize=0.396     # image scale\n",
    "plt.figure(figsize=(15, 15))   # display in a 4x4 grid\n",
    "subPlotNum = 1\n",
    "\n",
    "i = 0\n",
    "nGalaxies = len(myGalaxies)\n",
    "for index,gal in myGalaxies.iterrows():           # iterate through rows in the DataFrame\n",
    "    i = i + 1\n",
    "    print('Getting image '+str(i)+' of '+str(nGalaxies)+'...')\n",
    "    if (i == nGalaxies):\n",
    "        print('Plotting images...')\n",
    "    scale=2*gal['petror90_r']/pixelsize/width\n",
    "    img= SkyServer.getJpegImgCutout(ra=gal['ra'], dec=gal['dec'], width=width, height=height, scale=scale,dataRelease='DR13')\n",
    "    plt.subplot(4,4,subPlotNum)\n",
    "    subPlotNum += 1\n",
    "    plt.imshow(img)                               # show images in grid\n",
    "    plt.title(index)                              # show the object identifier (objId) above the image."
   ]
  },
  {
   "cell_type": "markdown",
   "metadata": {},
   "source": [
    "# 6. Write thumbnails to SciDrive\n",
    "\n",
    "SciDrive allows you to save query results as flat files in a Dropbox-like interface you can access anywhere. The Code Cell below saves the thumbnail images you generated in step 5 to your SciDrive. The first line allows you to change the SciDrive directory into which you write the files."
   ]
  },
  {
   "cell_type": "code",
   "execution_count": null,
   "metadata": {
    "collapsed": true
   },
   "outputs": [],
   "source": [
    "directory = 'thumbnails'    # directory to save thumbnail images into\n",
    "\n",
    "# check whether directory exists; if so, print warning that files may be overwritten.\n",
    "ok_to_create = True\n",
    "dirList = SciServer.SciDrive.directoryList(\"\")\n",
    "for i in dirList['contents']:\n",
    "    if(i['path'][1:len(i['path'])] == directory):\n",
    "        ok_to_create = False\n",
    "if (ok_to_create):\n",
    "    response = SciDrive.createContainer(directory)\n",
    "else:\n",
    "    print('Warning! Directory already exists. You might overwrite files in your existing directory.')\n",
    "\n",
    "# Get thumbnails as in step 5\n",
    "width=200\n",
    "height=200\n",
    "pixelsize=0.396\n",
    "\n",
    "filelocs=[]\n",
    "\n",
    "i = 0\n",
    "for index,gal in myGalaxies.iterrows():\n",
    "    i = i + 1\n",
    "    scale=2*gal['petror90_r']/pixelsize/width\n",
    "    url=\"http://skyserver.sdss.org/DR13/SkyServerWS/ImgCutout/getjpeg.aspx?ra=\"+str(gal['ra'])\n",
    "    url+=\"&dec=\"+str(gal['dec'])+\"&scale=\"\"\"+str(scale)+\"&width=\"+str(width)\n",
    "    url+=\"&height=\"+str(height)\n",
    "    req = urllib.urlopen(url)\n",
    "    data = req.read()\n",
    "    scidrivename_name = '/' + directory +'/new_'+str(index)+'.jpg'\n",
    "    filelocs.append(scidrivename_name)                                               # save filename for future reference\n",
    "    responseUpload = SciServer.SciDrive.upload(path=scidrivename_name,data=data)     # write file to SciDrive\n",
    "    print('Saving thumbnail '+str(i)+' of '+str(len(myGalaxies))+': objID = '+str(index))\n",
    "print('Done!')"
   ]
  },
  {
   "cell_type": "markdown",
   "metadata": {},
   "source": [
    "Now check your SciDrive again (<a href='www.scidrive.org'>www.scidrive.org</a>). You should see a directory called \"thumbnails\" (or whatever you chose above).\n",
    "\n",
    "Double-click on the directory name to open. You should see the thumbnails you just saved."
   ]
  },
  {
   "cell_type": "markdown",
   "metadata": {},
   "source": [
    "# 7. Store all results in a table in your MyDB\n",
    "\n",
    "So far, you have found data about some galaxies in SDSS Data Release 13. In addition to the data that DR13 provides, you have generated thumbnail images for each galaxy. You have also used the SciServer.SciDrive module to save the thumbnails to your SciDrive.\n",
    "\n",
    "Next, you will store all this information in a new table in your CasJobs personal database space, your <tt>MyDB</tt>.\n",
    "\n",
    "Remember that all the data you queried from DR13 is now stored in a Pandas DataFrame called \"myGalaxies\". You'll be starting from that data frame to save your results in your MyDB. You will also add a column giving the link to the thumbnail image in your SciDrive.\n",
    "\n",
    "You can see what is currently in your MyDB from the CasJobs website:<br />http://skyserver.sdss.org/casjobs/"
   ]
  },
  {
   "cell_type": "code",
   "execution_count": null,
   "metadata": {
    "collapsed": true
   },
   "outputs": [],
   "source": [
    "newtablename = 'GalaxyThumbs3'   # the name of the new table you will create in your MyDB\n",
    "\n",
    "# Step 7a: First, add another column to the data frame to give a link to the thumbnails you saved into SciDrive.\n",
    "puburls = []\n",
    "for i in range(0,len(filelocs)):\n",
    "    puburls.append(SciServer.SciDrive.publicUrl(filelocs[i]))   # look up SciDrive's public URL for each of your files\n",
    "myGalaxies['pubURL'] = puburls\n",
    "\n",
    "# Step 7b: Create the new table (print a warning and drop if it already exists)\n",
    "ddl = \"\"\"CREATE TABLE \"\"\" + newtablename + \"\"\"(objId bigint, ra real, dec real, petror90_r real, pubURL varchar(128))\"\"\"\n",
    "for j in SciServer.CasJobs.getTables('MyDB'):\n",
    "    if(j['Name'] == newtablename):\n",
    "        print('Warning! Table already exists, will be dropped and re-created.')\n",
    "        ddl = \"\"\"DROP TABLE \"\"\" + newtablename\n",
    "        SciServer.CasJobs.executeQuery(ddl,'MyDB')\n",
    "\n",
    "# Step 7c: Upload your DataFrame to the newly-created table\n",
    "SciServer.CasJobs.uploadPandasDataFrameToTable(myGalaxies,newtablename,\"MyDB\")\n",
    "\n",
    "# Step 7d: Query your MyDB to show the newly-added table\n",
    "query2 = '''select * from '''+newtablename\n",
    "print('Your new table: '+newtablename)\n",
    "SciServer.CasJobs.executeQuery(query2, \"MyDB\")"
   ]
  },
  {
   "cell_type": "markdown",
   "metadata": {},
   "source": [
    "# 8. Get your SciServer token (optional)\n",
    "\n",
    "SciServer libraries automatically log you in through the SciServer Portal, so you no longer need to worry about authentication.\n",
    "\n",
    "But sometimes it is useful to know your SciServer token. Run the code in the Code Cell below to print your token, along with your SciServer username. You can use this to log in to the SciServer system if you ever need to use it from an outside container."
   ]
  },
  {
   "cell_type": "code",
   "execution_count": null,
   "metadata": {
    "collapsed": true
   },
   "outputs": [],
   "source": [
    "# This code block defined your token and makes it available as a \n",
    "#   system variable for the length of your current session.\n",
    "# \n",
    "# This will usually be the first code block in any script you write.\n",
    "\n",
    "import SciServer.Authentication as Auth\n",
    "token=Auth.getToken()\n",
    "user = Auth.getKeystoneUserWithToken(token)\n",
    "print(\"Your username is: \"+user.userName)\n",
    "print(\"Your current token is\"+token)"
   ]
  }
 ],
 "metadata": {
  "kernelspec": {
   "display_name": "Python 2",
   "language": "python",
   "name": "python2"
  },
  "language_info": {
   "codemirror_mode": {
    "name": "ipython",
    "version": 2
   },
   "file_extension": ".py",
   "mimetype": "text/x-python",
   "name": "python",
   "nbconvert_exporter": "python",
   "pygments_lexer": "ipython2",
   "version": "2.7.6"
  }
 },
 "nbformat": 4,
 "nbformat_minor": 0
}
